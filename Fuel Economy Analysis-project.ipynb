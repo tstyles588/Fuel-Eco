{
 "cells": [
  {
   "cell_type": "code",
   "execution_count": 1,
   "metadata": {},
   "outputs": [],
   "source": [
    "import pandas as pd\n",
    "import numpy as np\n",
    "%matplotlib inline\n",
    "import matplotlib.pyplot as plt"
   ]
  },
  {
   "cell_type": "code",
   "execution_count": 2,
   "metadata": {},
   "outputs": [],
   "source": [
    "df_08 = pd.read_csv('all_alpha_08.csv')\n",
    "df_18 = pd.read_csv('all_alpha_18.csv')"
   ]
  },
  {
   "cell_type": "markdown",
   "metadata": {},
   "source": [
    "## Number of columns per dataset"
   ]
  },
  {
   "cell_type": "code",
   "execution_count": 3,
   "metadata": {},
   "outputs": [
    {
     "name": "stdout",
     "output_type": "stream",
     "text": [
      "<class 'pandas.core.frame.DataFrame'>\n",
      "RangeIndex: 2404 entries, 0 to 2403\n",
      "Data columns (total 18 columns):\n",
      " #   Column                Non-Null Count  Dtype  \n",
      "---  ------                --------------  -----  \n",
      " 0   Model                 2404 non-null   object \n",
      " 1   Displ                 2404 non-null   float64\n",
      " 2   Cyl                   2205 non-null   object \n",
      " 3   Trans                 2205 non-null   object \n",
      " 4   Drive                 2311 non-null   object \n",
      " 5   Fuel                  2404 non-null   object \n",
      " 6   Sales Area            2404 non-null   object \n",
      " 7   Stnd                  2404 non-null   object \n",
      " 8   Underhood ID          2404 non-null   object \n",
      " 9   Veh Class             2404 non-null   object \n",
      " 10  Air Pollution Score   2404 non-null   object \n",
      " 11  FE Calc Appr          2205 non-null   object \n",
      " 12  City MPG              2205 non-null   object \n",
      " 13  Hwy MPG               2205 non-null   object \n",
      " 14  Cmb MPG               2205 non-null   object \n",
      " 15  Unadj Cmb MPG         2205 non-null   float64\n",
      " 16  Greenhouse Gas Score  2205 non-null   object \n",
      " 17  SmartWay              2404 non-null   object \n",
      "dtypes: float64(2), object(16)\n",
      "memory usage: 338.2+ KB\n",
      "<class 'pandas.core.frame.DataFrame'>\n",
      "RangeIndex: 1611 entries, 0 to 1610\n",
      "Data columns (total 18 columns):\n",
      " #   Column                Non-Null Count  Dtype  \n",
      "---  ------                --------------  -----  \n",
      " 0   Model                 1611 non-null   object \n",
      " 1   Displ                 1609 non-null   float64\n",
      " 2   Cyl                   1609 non-null   float64\n",
      " 3   Trans                 1611 non-null   object \n",
      " 4   Drive                 1611 non-null   object \n",
      " 5   Fuel                  1611 non-null   object \n",
      " 6   Cert Region           1611 non-null   object \n",
      " 7   Stnd                  1611 non-null   object \n",
      " 8   Stnd Description      1611 non-null   object \n",
      " 9   Underhood ID          1611 non-null   object \n",
      " 10  Veh Class             1611 non-null   object \n",
      " 11  Air Pollution Score   1611 non-null   int64  \n",
      " 12  City MPG              1611 non-null   object \n",
      " 13  Hwy MPG               1611 non-null   object \n",
      " 14  Cmb MPG               1611 non-null   object \n",
      " 15  Greenhouse Gas Score  1611 non-null   int64  \n",
      " 16  SmartWay              1611 non-null   object \n",
      " 17  Comb CO2              1611 non-null   object \n",
      "dtypes: float64(2), int64(2), object(14)\n",
      "memory usage: 226.7+ KB\n"
     ]
    }
   ],
   "source": [
    "df_08.info()\n",
    "df_18.info()"
   ]
  },
  {
   "cell_type": "markdown",
   "metadata": {},
   "source": [
    "## Number of records per dataset"
   ]
  },
  {
   "cell_type": "markdown",
   "metadata": {},
   "source": [
    "^^^"
   ]
  },
  {
   "cell_type": "markdown",
   "metadata": {},
   "source": [
    "## Number of duplicate rows"
   ]
  },
  {
   "cell_type": "code",
   "execution_count": 4,
   "metadata": {},
   "outputs": [
    {
     "name": "stdout",
     "output_type": "stream",
     "text": [
      "25 duplicated rows in the 08 dataset.\n",
      "0 duplicated rows in the 18 dataset.\n"
     ]
    }
   ],
   "source": [
    "print(f'{df_08.duplicated().sum()} duplicated rows in the 08 dataset.')\n",
    "print(f'{df_18.duplicated().sum()} duplicated rows in the 18 dataset.')"
   ]
  },
  {
   "cell_type": "markdown",
   "metadata": {},
   "source": [
    "## Features with missing values"
   ]
  },
  {
   "cell_type": "code",
   "execution_count": 5,
   "metadata": {},
   "outputs": [
    {
     "data": {
      "text/plain": [
       "Model                     0\n",
       "Displ                     0\n",
       "Cyl                     199\n",
       "Trans                   199\n",
       "Drive                    93\n",
       "Fuel                      0\n",
       "Sales Area                0\n",
       "Stnd                      0\n",
       "Underhood ID              0\n",
       "Veh Class                 0\n",
       "Air Pollution Score       0\n",
       "FE Calc Appr            199\n",
       "City MPG                199\n",
       "Hwy MPG                 199\n",
       "Cmb MPG                 199\n",
       "Unadj Cmb MPG           199\n",
       "Greenhouse Gas Score    199\n",
       "SmartWay                  0\n",
       "dtype: int64"
      ]
     },
     "execution_count": 5,
     "metadata": {},
     "output_type": "execute_result"
    }
   ],
   "source": [
    "df_08.isnull().sum()"
   ]
  },
  {
   "cell_type": "markdown",
   "metadata": {},
   "source": [
    "## Non-null unique values"
   ]
  },
  {
   "cell_type": "code",
   "execution_count": 6,
   "metadata": {},
   "outputs": [
    {
     "data": {
      "text/plain": [
       "Model                   436\n",
       "Displ                    47\n",
       "Cyl                       8\n",
       "Trans                    14\n",
       "Drive                     2\n",
       "Fuel                      5\n",
       "Sales Area                3\n",
       "Stnd                     12\n",
       "Underhood ID            343\n",
       "Veh Class                 9\n",
       "Air Pollution Score      13\n",
       "FE Calc Appr              2\n",
       "City MPG                 39\n",
       "Hwy MPG                  43\n",
       "Cmb MPG                  38\n",
       "Unadj Cmb MPG           721\n",
       "Greenhouse Gas Score     20\n",
       "SmartWay                  2\n",
       "dtype: int64"
      ]
     },
     "execution_count": 6,
     "metadata": {},
     "output_type": "execute_result"
    }
   ],
   "source": [
    "df_08.nunique()"
   ]
  },
  {
   "cell_type": "code",
   "execution_count": 7,
   "metadata": {},
   "outputs": [
    {
     "data": {
      "text/plain": [
       "1217"
      ]
     },
     "execution_count": 7,
     "metadata": {},
     "output_type": "execute_result"
    }
   ],
   "source": [
    "df_18.nunique().sum()"
   ]
  },
  {
   "cell_type": "markdown",
   "metadata": {},
   "source": [
    "## Count of unique fuel types"
   ]
  },
  {
   "cell_type": "code",
   "execution_count": 8,
   "metadata": {},
   "outputs": [
    {
     "data": {
      "text/plain": [
       "5"
      ]
     },
     "execution_count": 8,
     "metadata": {},
     "output_type": "execute_result"
    }
   ],
   "source": [
    "df_08.Fuel.nunique()"
   ]
  },
  {
   "cell_type": "code",
   "execution_count": 9,
   "metadata": {},
   "outputs": [
    {
     "ename": "NameError",
     "evalue": "name 'df_o8' is not defined",
     "output_type": "error",
     "traceback": [
      "\u001b[1;31m---------------------------------------------------------------------------\u001b[0m",
      "\u001b[1;31mNameError\u001b[0m                                 Traceback (most recent call last)",
      "\u001b[1;32m<ipython-input-9-22a1319c0930>\u001b[0m in \u001b[0;36m<module>\u001b[1;34m\u001b[0m\n\u001b[1;32m----> 1\u001b[1;33m \u001b[0mdf_o8\u001b[0m\u001b[1;33m.\u001b[0m\u001b[0mFuel\u001b[0m\u001b[1;33m.\u001b[0m\u001b[0mvalue_counts\u001b[0m\u001b[1;33m(\u001b[0m\u001b[1;33m)\u001b[0m\u001b[1;33m\u001b[0m\u001b[1;33m\u001b[0m\u001b[0m\n\u001b[0m",
      "\u001b[1;31mNameError\u001b[0m: name 'df_o8' is not defined"
     ]
    }
   ],
   "source": [
    "df_o8.Fuel.value_counts()"
   ]
  },
  {
   "cell_type": "code",
   "execution_count": 10,
   "metadata": {},
   "outputs": [
    {
     "data": {
      "text/plain": [
       "Gasoline                1492\n",
       "Ethanol/Gas               55\n",
       "Diesel                    38\n",
       "Gasoline/Electricity      24\n",
       "Electricity                2\n",
       "Name: Fuel, dtype: int64"
      ]
     },
     "execution_count": 10,
     "metadata": {},
     "output_type": "execute_result"
    }
   ],
   "source": [
    "df_18.Fuel.value_counts()"
   ]
  },
  {
   "cell_type": "markdown",
   "metadata": {},
   "source": [
    "## Drop unneeded columns"
   ]
  },
  {
   "cell_type": "code",
   "execution_count": null,
   "metadata": {},
   "outputs": [],
   "source": []
  },
  {
   "cell_type": "markdown",
   "metadata": {},
   "source": [
    "## Rename 'Sales Area' column in 2008 dataframe"
   ]
  },
  {
   "cell_type": "code",
   "execution_count": 11,
   "metadata": {},
   "outputs": [],
   "source": [
    "df_08 = df_08.rename(columns=lambda x:x.replace(' ', '_'))\n",
    "df_18 = df_18.rename(columns=lambda x:x.replace(' ', '_'))\n",
    "df_08 = df_08.rename(columns={'Sales_Area' : 'Cert_Region', })"
   ]
  },
  {
   "cell_type": "markdown",
   "metadata": {},
   "source": [
    "## Make more consistent column labels"
   ]
  },
  {
   "cell_type": "code",
   "execution_count": 12,
   "metadata": {},
   "outputs": [],
   "source": [
    "\n",
    "df_08.Cyl = df_08.Cyl.str.extract('(\\d+)')\n",
    "df_08 = df_08.drop(columns=['FE_Calc_Appr', 'Unadj_Cmb_MPG', 'SmartWay'])\n",
    "df_18 = df_18.drop(columns=['Stnd_Description', 'SmartWay', 'Comb_CO2'])\n",
    "df_08 = df_08.query('Cert_Region == \"CA\"')\n",
    "df_18 = df_18.query('Cert_Region == \"CA\"')"
   ]
  },
  {
   "cell_type": "markdown",
   "metadata": {},
   "source": [
    "# Compare columns names and make sure they're the same"
   ]
  },
  {
   "cell_type": "code",
   "execution_count": null,
   "metadata": {},
   "outputs": [],
   "source": []
  },
  {
   "cell_type": "markdown",
   "metadata": {},
   "source": [
    "# CHECKPOINT: SAVE EVERYTHING THUS FAR INTO A DATAFRAME"
   ]
  },
  {
   "cell_type": "markdown",
   "metadata": {},
   "source": [
    "## Only return records with a 'CA' cert_region"
   ]
  },
  {
   "cell_type": "code",
   "execution_count": 40,
   "metadata": {},
   "outputs": [
    {
     "data": {
      "text/html": [
       "<div>\n",
       "<style scoped>\n",
       "    .dataframe tbody tr th:only-of-type {\n",
       "        vertical-align: middle;\n",
       "    }\n",
       "\n",
       "    .dataframe tbody tr th {\n",
       "        vertical-align: top;\n",
       "    }\n",
       "\n",
       "    .dataframe thead th {\n",
       "        text-align: right;\n",
       "    }\n",
       "</style>\n",
       "<table border=\"1\" class=\"dataframe\">\n",
       "  <thead>\n",
       "    <tr style=\"text-align: right;\">\n",
       "      <th></th>\n",
       "      <th>Model</th>\n",
       "      <th>Displ</th>\n",
       "      <th>Cyl</th>\n",
       "      <th>Trans</th>\n",
       "      <th>Drive</th>\n",
       "      <th>Fuel</th>\n",
       "      <th>Cert_Region</th>\n",
       "      <th>Stnd</th>\n",
       "      <th>Underhood_ID</th>\n",
       "      <th>Veh_Class</th>\n",
       "      <th>Air_Pollution_Score</th>\n",
       "      <th>City_MPG</th>\n",
       "      <th>Hwy_MPG</th>\n",
       "      <th>Cmb_MPG</th>\n",
       "      <th>Greenhouse_Gas_Score</th>\n",
       "    </tr>\n",
       "  </thead>\n",
       "  <tbody>\n",
       "    <tr>\n",
       "      <th>0</th>\n",
       "      <td>ACURA MDX</td>\n",
       "      <td>3.7</td>\n",
       "      <td>6</td>\n",
       "      <td>Auto-S5</td>\n",
       "      <td>4WD</td>\n",
       "      <td>Gasoline</td>\n",
       "      <td>CA</td>\n",
       "      <td>U2</td>\n",
       "      <td>8HNXT03.7PKR</td>\n",
       "      <td>SUV</td>\n",
       "      <td>7</td>\n",
       "      <td>15</td>\n",
       "      <td>20</td>\n",
       "      <td>17</td>\n",
       "      <td>4</td>\n",
       "    </tr>\n",
       "    <tr>\n",
       "      <th>2</th>\n",
       "      <td>ACURA RDX</td>\n",
       "      <td>2.3</td>\n",
       "      <td>4</td>\n",
       "      <td>Auto-S5</td>\n",
       "      <td>4WD</td>\n",
       "      <td>Gasoline</td>\n",
       "      <td>CA</td>\n",
       "      <td>U2</td>\n",
       "      <td>8HNXT02.3DKR</td>\n",
       "      <td>SUV</td>\n",
       "      <td>7</td>\n",
       "      <td>17</td>\n",
       "      <td>22</td>\n",
       "      <td>19</td>\n",
       "      <td>5</td>\n",
       "    </tr>\n",
       "    <tr>\n",
       "      <th>4</th>\n",
       "      <td>ACURA RL</td>\n",
       "      <td>3.5</td>\n",
       "      <td>6</td>\n",
       "      <td>Auto-S5</td>\n",
       "      <td>4WD</td>\n",
       "      <td>Gasoline</td>\n",
       "      <td>CA</td>\n",
       "      <td>U2</td>\n",
       "      <td>8HNXV03.5HKR</td>\n",
       "      <td>midsize car</td>\n",
       "      <td>7</td>\n",
       "      <td>16</td>\n",
       "      <td>24</td>\n",
       "      <td>19</td>\n",
       "      <td>5</td>\n",
       "    </tr>\n",
       "    <tr>\n",
       "      <th>6</th>\n",
       "      <td>ACURA TL</td>\n",
       "      <td>3.2</td>\n",
       "      <td>6</td>\n",
       "      <td>Auto-S5</td>\n",
       "      <td>2WD</td>\n",
       "      <td>Gasoline</td>\n",
       "      <td>CA</td>\n",
       "      <td>U2</td>\n",
       "      <td>8HNXV03.5HKR</td>\n",
       "      <td>midsize car</td>\n",
       "      <td>7</td>\n",
       "      <td>18</td>\n",
       "      <td>26</td>\n",
       "      <td>21</td>\n",
       "      <td>6</td>\n",
       "    </tr>\n",
       "    <tr>\n",
       "      <th>7</th>\n",
       "      <td>ACURA TL</td>\n",
       "      <td>3.5</td>\n",
       "      <td>6</td>\n",
       "      <td>Auto-S5</td>\n",
       "      <td>2WD</td>\n",
       "      <td>Gasoline</td>\n",
       "      <td>CA</td>\n",
       "      <td>U2</td>\n",
       "      <td>8HNXV03.5RKR</td>\n",
       "      <td>midsize car</td>\n",
       "      <td>7</td>\n",
       "      <td>17</td>\n",
       "      <td>26</td>\n",
       "      <td>20</td>\n",
       "      <td>6</td>\n",
       "    </tr>\n",
       "    <tr>\n",
       "      <th>...</th>\n",
       "      <td>...</td>\n",
       "      <td>...</td>\n",
       "      <td>...</td>\n",
       "      <td>...</td>\n",
       "      <td>...</td>\n",
       "      <td>...</td>\n",
       "      <td>...</td>\n",
       "      <td>...</td>\n",
       "      <td>...</td>\n",
       "      <td>...</td>\n",
       "      <td>...</td>\n",
       "      <td>...</td>\n",
       "      <td>...</td>\n",
       "      <td>...</td>\n",
       "      <td>...</td>\n",
       "    </tr>\n",
       "    <tr>\n",
       "      <th>2394</th>\n",
       "      <td>VOLVO V70</td>\n",
       "      <td>3.2</td>\n",
       "      <td>6</td>\n",
       "      <td>Auto-S6</td>\n",
       "      <td>2WD</td>\n",
       "      <td>Gasoline</td>\n",
       "      <td>CA</td>\n",
       "      <td>U2</td>\n",
       "      <td>8VVXB03.2U2N</td>\n",
       "      <td>station wagon</td>\n",
       "      <td>7</td>\n",
       "      <td>16</td>\n",
       "      <td>24</td>\n",
       "      <td>19</td>\n",
       "      <td>5</td>\n",
       "    </tr>\n",
       "    <tr>\n",
       "      <th>2396</th>\n",
       "      <td>VOLVO XC 70</td>\n",
       "      <td>3.2</td>\n",
       "      <td>6</td>\n",
       "      <td>Auto-S6</td>\n",
       "      <td>4WD</td>\n",
       "      <td>Gasoline</td>\n",
       "      <td>CA</td>\n",
       "      <td>U2</td>\n",
       "      <td>8VVXB03.2U2N</td>\n",
       "      <td>SUV</td>\n",
       "      <td>7</td>\n",
       "      <td>15</td>\n",
       "      <td>22</td>\n",
       "      <td>17</td>\n",
       "      <td>4</td>\n",
       "    </tr>\n",
       "    <tr>\n",
       "      <th>2398</th>\n",
       "      <td>VOLVO XC 90</td>\n",
       "      <td>3.2</td>\n",
       "      <td>6</td>\n",
       "      <td>Auto-S6</td>\n",
       "      <td>2WD</td>\n",
       "      <td>Gasoline</td>\n",
       "      <td>CA</td>\n",
       "      <td>U2</td>\n",
       "      <td>8VVXB03.2U2N</td>\n",
       "      <td>SUV</td>\n",
       "      <td>7</td>\n",
       "      <td>14</td>\n",
       "      <td>20</td>\n",
       "      <td>16</td>\n",
       "      <td>4</td>\n",
       "    </tr>\n",
       "    <tr>\n",
       "      <th>2399</th>\n",
       "      <td>VOLVO XC 90</td>\n",
       "      <td>3.2</td>\n",
       "      <td>6</td>\n",
       "      <td>Auto-S6</td>\n",
       "      <td>4WD</td>\n",
       "      <td>Gasoline</td>\n",
       "      <td>CA</td>\n",
       "      <td>U2</td>\n",
       "      <td>8VVXB03.2U2N</td>\n",
       "      <td>SUV</td>\n",
       "      <td>7</td>\n",
       "      <td>14</td>\n",
       "      <td>20</td>\n",
       "      <td>16</td>\n",
       "      <td>4</td>\n",
       "    </tr>\n",
       "    <tr>\n",
       "      <th>2400</th>\n",
       "      <td>VOLVO XC 90</td>\n",
       "      <td>4.4</td>\n",
       "      <td>8</td>\n",
       "      <td>Auto-S6</td>\n",
       "      <td>4WD</td>\n",
       "      <td>Gasoline</td>\n",
       "      <td>CA</td>\n",
       "      <td>U2</td>\n",
       "      <td>8VVXB04.4U2N</td>\n",
       "      <td>SUV</td>\n",
       "      <td>7</td>\n",
       "      <td>13</td>\n",
       "      <td>19</td>\n",
       "      <td>15</td>\n",
       "      <td>3</td>\n",
       "    </tr>\n",
       "  </tbody>\n",
       "</table>\n",
       "<p>1084 rows × 15 columns</p>\n",
       "</div>"
      ],
      "text/plain": [
       "            Model  Displ Cyl    Trans Drive      Fuel Cert_Region Stnd  \\\n",
       "0       ACURA MDX    3.7   6  Auto-S5   4WD  Gasoline          CA   U2   \n",
       "2       ACURA RDX    2.3   4  Auto-S5   4WD  Gasoline          CA   U2   \n",
       "4        ACURA RL    3.5   6  Auto-S5   4WD  Gasoline          CA   U2   \n",
       "6        ACURA TL    3.2   6  Auto-S5   2WD  Gasoline          CA   U2   \n",
       "7        ACURA TL    3.5   6  Auto-S5   2WD  Gasoline          CA   U2   \n",
       "...           ...    ...  ..      ...   ...       ...         ...  ...   \n",
       "2394    VOLVO V70    3.2   6  Auto-S6   2WD  Gasoline          CA   U2   \n",
       "2396  VOLVO XC 70    3.2   6  Auto-S6   4WD  Gasoline          CA   U2   \n",
       "2398  VOLVO XC 90    3.2   6  Auto-S6   2WD  Gasoline          CA   U2   \n",
       "2399  VOLVO XC 90    3.2   6  Auto-S6   4WD  Gasoline          CA   U2   \n",
       "2400  VOLVO XC 90    4.4   8  Auto-S6   4WD  Gasoline          CA   U2   \n",
       "\n",
       "      Underhood_ID      Veh_Class Air_Pollution_Score City_MPG Hwy_MPG  \\\n",
       "0     8HNXT03.7PKR            SUV                   7       15      20   \n",
       "2     8HNXT02.3DKR            SUV                   7       17      22   \n",
       "4     8HNXV03.5HKR    midsize car                   7       16      24   \n",
       "6     8HNXV03.5HKR    midsize car                   7       18      26   \n",
       "7     8HNXV03.5RKR    midsize car                   7       17      26   \n",
       "...            ...            ...                 ...      ...     ...   \n",
       "2394  8VVXB03.2U2N  station wagon                   7       16      24   \n",
       "2396  8VVXB03.2U2N            SUV                   7       15      22   \n",
       "2398  8VVXB03.2U2N            SUV                   7       14      20   \n",
       "2399  8VVXB03.2U2N            SUV                   7       14      20   \n",
       "2400  8VVXB04.4U2N            SUV                   7       13      19   \n",
       "\n",
       "     Cmb_MPG Greenhouse_Gas_Score  \n",
       "0         17                    4  \n",
       "2         19                    5  \n",
       "4         19                    5  \n",
       "6         21                    6  \n",
       "7         20                    6  \n",
       "...      ...                  ...  \n",
       "2394      19                    5  \n",
       "2396      17                    4  \n",
       "2398      16                    4  \n",
       "2399      16                    4  \n",
       "2400      15                    3  \n",
       "\n",
       "[1084 rows x 15 columns]"
      ]
     },
     "execution_count": 40,
     "metadata": {},
     "output_type": "execute_result"
    }
   ],
   "source": [
    "df_08"
   ]
  },
  {
   "cell_type": "code",
   "execution_count": 41,
   "metadata": {},
   "outputs": [
    {
     "data": {
      "text/html": [
       "<div>\n",
       "<style scoped>\n",
       "    .dataframe tbody tr th:only-of-type {\n",
       "        vertical-align: middle;\n",
       "    }\n",
       "\n",
       "    .dataframe tbody tr th {\n",
       "        vertical-align: top;\n",
       "    }\n",
       "\n",
       "    .dataframe thead th {\n",
       "        text-align: right;\n",
       "    }\n",
       "</style>\n",
       "<table border=\"1\" class=\"dataframe\">\n",
       "  <thead>\n",
       "    <tr style=\"text-align: right;\">\n",
       "      <th></th>\n",
       "      <th>Model</th>\n",
       "      <th>Displ</th>\n",
       "      <th>Cyl</th>\n",
       "      <th>Trans</th>\n",
       "      <th>Drive</th>\n",
       "      <th>Fuel</th>\n",
       "      <th>Cert_Region</th>\n",
       "      <th>Stnd</th>\n",
       "      <th>Underhood_ID</th>\n",
       "      <th>Veh_Class</th>\n",
       "      <th>Air_Pollution_Score</th>\n",
       "      <th>City_MPG</th>\n",
       "      <th>Hwy_MPG</th>\n",
       "      <th>Cmb_MPG</th>\n",
       "      <th>Greenhouse_Gas_Score</th>\n",
       "    </tr>\n",
       "  </thead>\n",
       "  <tbody>\n",
       "    <tr>\n",
       "      <th>1</th>\n",
       "      <td>ACURA RDX</td>\n",
       "      <td>3.5</td>\n",
       "      <td>6.0</td>\n",
       "      <td>SemiAuto-6</td>\n",
       "      <td>2WD</td>\n",
       "      <td>Gasoline</td>\n",
       "      <td>CA</td>\n",
       "      <td>U2</td>\n",
       "      <td>JHNXT03.5GV3</td>\n",
       "      <td>small SUV</td>\n",
       "      <td>3</td>\n",
       "      <td>20</td>\n",
       "      <td>28</td>\n",
       "      <td>23</td>\n",
       "      <td>5</td>\n",
       "    </tr>\n",
       "    <tr>\n",
       "      <th>3</th>\n",
       "      <td>ACURA RDX</td>\n",
       "      <td>3.5</td>\n",
       "      <td>6.0</td>\n",
       "      <td>SemiAuto-6</td>\n",
       "      <td>4WD</td>\n",
       "      <td>Gasoline</td>\n",
       "      <td>CA</td>\n",
       "      <td>U2</td>\n",
       "      <td>JHNXT03.5GV3</td>\n",
       "      <td>small SUV</td>\n",
       "      <td>3</td>\n",
       "      <td>19</td>\n",
       "      <td>27</td>\n",
       "      <td>22</td>\n",
       "      <td>4</td>\n",
       "    </tr>\n",
       "    <tr>\n",
       "      <th>4</th>\n",
       "      <td>ACURA TLX</td>\n",
       "      <td>2.4</td>\n",
       "      <td>4.0</td>\n",
       "      <td>AMS-8</td>\n",
       "      <td>2WD</td>\n",
       "      <td>Gasoline</td>\n",
       "      <td>CA</td>\n",
       "      <td>L3ULEV125</td>\n",
       "      <td>JHNXV02.4WH3</td>\n",
       "      <td>small car</td>\n",
       "      <td>3</td>\n",
       "      <td>23</td>\n",
       "      <td>33</td>\n",
       "      <td>27</td>\n",
       "      <td>6</td>\n",
       "    </tr>\n",
       "    <tr>\n",
       "      <th>6</th>\n",
       "      <td>ACURA TLX</td>\n",
       "      <td>3.5</td>\n",
       "      <td>6.0</td>\n",
       "      <td>SemiAuto-9</td>\n",
       "      <td>2WD</td>\n",
       "      <td>Gasoline</td>\n",
       "      <td>CA</td>\n",
       "      <td>L3ULEV125</td>\n",
       "      <td>JHNXV03.5LH3</td>\n",
       "      <td>small car</td>\n",
       "      <td>3</td>\n",
       "      <td>20</td>\n",
       "      <td>32</td>\n",
       "      <td>24</td>\n",
       "      <td>5</td>\n",
       "    </tr>\n",
       "    <tr>\n",
       "      <th>8</th>\n",
       "      <td>ACURA TLX</td>\n",
       "      <td>3.5</td>\n",
       "      <td>6.0</td>\n",
       "      <td>SemiAuto-9</td>\n",
       "      <td>4WD</td>\n",
       "      <td>Gasoline</td>\n",
       "      <td>CA</td>\n",
       "      <td>L3ULEV125</td>\n",
       "      <td>JHNXV03.5LH3</td>\n",
       "      <td>small car</td>\n",
       "      <td>3</td>\n",
       "      <td>21</td>\n",
       "      <td>30</td>\n",
       "      <td>24</td>\n",
       "      <td>5</td>\n",
       "    </tr>\n",
       "    <tr>\n",
       "      <th>...</th>\n",
       "      <td>...</td>\n",
       "      <td>...</td>\n",
       "      <td>...</td>\n",
       "      <td>...</td>\n",
       "      <td>...</td>\n",
       "      <td>...</td>\n",
       "      <td>...</td>\n",
       "      <td>...</td>\n",
       "      <td>...</td>\n",
       "      <td>...</td>\n",
       "      <td>...</td>\n",
       "      <td>...</td>\n",
       "      <td>...</td>\n",
       "      <td>...</td>\n",
       "      <td>...</td>\n",
       "    </tr>\n",
       "    <tr>\n",
       "      <th>1601</th>\n",
       "      <td>VOLVO XC 60</td>\n",
       "      <td>2.0</td>\n",
       "      <td>4.0</td>\n",
       "      <td>SemiAuto-8</td>\n",
       "      <td>4WD</td>\n",
       "      <td>Gasoline/Electricity</td>\n",
       "      <td>CA</td>\n",
       "      <td>L3SULEV30</td>\n",
       "      <td>JVVXJ02.0P30</td>\n",
       "      <td>small SUV</td>\n",
       "      <td>7</td>\n",
       "      <td>26/60</td>\n",
       "      <td>28/58</td>\n",
       "      <td>26/59</td>\n",
       "      <td>10</td>\n",
       "    </tr>\n",
       "    <tr>\n",
       "      <th>1603</th>\n",
       "      <td>VOLVO XC 90</td>\n",
       "      <td>2.0</td>\n",
       "      <td>4.0</td>\n",
       "      <td>SemiAuto-8</td>\n",
       "      <td>2WD</td>\n",
       "      <td>Gasoline</td>\n",
       "      <td>CA</td>\n",
       "      <td>L3ULEV70</td>\n",
       "      <td>JVVXJ02.0A70</td>\n",
       "      <td>standard SUV</td>\n",
       "      <td>5</td>\n",
       "      <td>22</td>\n",
       "      <td>29</td>\n",
       "      <td>25</td>\n",
       "      <td>5</td>\n",
       "    </tr>\n",
       "    <tr>\n",
       "      <th>1605</th>\n",
       "      <td>VOLVO XC 90</td>\n",
       "      <td>2.0</td>\n",
       "      <td>4.0</td>\n",
       "      <td>SemiAuto-8</td>\n",
       "      <td>4WD</td>\n",
       "      <td>Gasoline</td>\n",
       "      <td>CA</td>\n",
       "      <td>L3ULEV70</td>\n",
       "      <td>JVVXJ02.0A70</td>\n",
       "      <td>standard SUV</td>\n",
       "      <td>5</td>\n",
       "      <td>22</td>\n",
       "      <td>28</td>\n",
       "      <td>24</td>\n",
       "      <td>5</td>\n",
       "    </tr>\n",
       "    <tr>\n",
       "      <th>1607</th>\n",
       "      <td>VOLVO XC 90</td>\n",
       "      <td>2.0</td>\n",
       "      <td>4.0</td>\n",
       "      <td>SemiAuto-8</td>\n",
       "      <td>4WD</td>\n",
       "      <td>Gasoline</td>\n",
       "      <td>CA</td>\n",
       "      <td>L3ULEV70</td>\n",
       "      <td>JVVXJ02.0B70</td>\n",
       "      <td>standard SUV</td>\n",
       "      <td>5</td>\n",
       "      <td>20</td>\n",
       "      <td>27</td>\n",
       "      <td>23</td>\n",
       "      <td>5</td>\n",
       "    </tr>\n",
       "    <tr>\n",
       "      <th>1609</th>\n",
       "      <td>VOLVO XC 90</td>\n",
       "      <td>2.0</td>\n",
       "      <td>4.0</td>\n",
       "      <td>SemiAuto-8</td>\n",
       "      <td>4WD</td>\n",
       "      <td>Gasoline/Electricity</td>\n",
       "      <td>CA</td>\n",
       "      <td>L3SULEV30</td>\n",
       "      <td>JVVXJ02.0P30</td>\n",
       "      <td>standard SUV</td>\n",
       "      <td>7</td>\n",
       "      <td>26/63</td>\n",
       "      <td>30/61</td>\n",
       "      <td>27/62</td>\n",
       "      <td>10</td>\n",
       "    </tr>\n",
       "  </tbody>\n",
       "</table>\n",
       "<p>798 rows × 15 columns</p>\n",
       "</div>"
      ],
      "text/plain": [
       "            Model  Displ  Cyl       Trans Drive                  Fuel  \\\n",
       "1       ACURA RDX    3.5  6.0  SemiAuto-6   2WD              Gasoline   \n",
       "3       ACURA RDX    3.5  6.0  SemiAuto-6   4WD              Gasoline   \n",
       "4       ACURA TLX    2.4  4.0       AMS-8   2WD              Gasoline   \n",
       "6       ACURA TLX    3.5  6.0  SemiAuto-9   2WD              Gasoline   \n",
       "8       ACURA TLX    3.5  6.0  SemiAuto-9   4WD              Gasoline   \n",
       "...           ...    ...  ...         ...   ...                   ...   \n",
       "1601  VOLVO XC 60    2.0  4.0  SemiAuto-8   4WD  Gasoline/Electricity   \n",
       "1603  VOLVO XC 90    2.0  4.0  SemiAuto-8   2WD              Gasoline   \n",
       "1605  VOLVO XC 90    2.0  4.0  SemiAuto-8   4WD              Gasoline   \n",
       "1607  VOLVO XC 90    2.0  4.0  SemiAuto-8   4WD              Gasoline   \n",
       "1609  VOLVO XC 90    2.0  4.0  SemiAuto-8   4WD  Gasoline/Electricity   \n",
       "\n",
       "     Cert_Region       Stnd  Underhood_ID     Veh_Class  Air_Pollution_Score  \\\n",
       "1             CA         U2  JHNXT03.5GV3     small SUV                    3   \n",
       "3             CA         U2  JHNXT03.5GV3     small SUV                    3   \n",
       "4             CA  L3ULEV125  JHNXV02.4WH3     small car                    3   \n",
       "6             CA  L3ULEV125  JHNXV03.5LH3     small car                    3   \n",
       "8             CA  L3ULEV125  JHNXV03.5LH3     small car                    3   \n",
       "...          ...        ...           ...           ...                  ...   \n",
       "1601          CA  L3SULEV30  JVVXJ02.0P30     small SUV                    7   \n",
       "1603          CA   L3ULEV70  JVVXJ02.0A70  standard SUV                    5   \n",
       "1605          CA   L3ULEV70  JVVXJ02.0A70  standard SUV                    5   \n",
       "1607          CA   L3ULEV70  JVVXJ02.0B70  standard SUV                    5   \n",
       "1609          CA  L3SULEV30  JVVXJ02.0P30  standard SUV                    7   \n",
       "\n",
       "     City_MPG Hwy_MPG Cmb_MPG  Greenhouse_Gas_Score  \n",
       "1          20      28      23                     5  \n",
       "3          19      27      22                     4  \n",
       "4          23      33      27                     6  \n",
       "6          20      32      24                     5  \n",
       "8          21      30      24                     5  \n",
       "...       ...     ...     ...                   ...  \n",
       "1601    26/60   28/58   26/59                    10  \n",
       "1603       22      29      25                     5  \n",
       "1605       22      28      24                     5  \n",
       "1607       20      27      23                     5  \n",
       "1609    26/63   30/61   27/62                    10  \n",
       "\n",
       "[798 rows x 15 columns]"
      ]
     },
     "execution_count": 41,
     "metadata": {},
     "output_type": "execute_result"
    }
   ],
   "source": [
    "df_18"
   ]
  },
  {
   "cell_type": "markdown",
   "metadata": {},
   "source": [
    "## Drop 'cert_region' column from each df, since our 'cert_region' is implied"
   ]
  },
  {
   "cell_type": "code",
   "execution_count": 13,
   "metadata": {},
   "outputs": [],
   "source": [
    "df_08 = df_08.drop(columns=['Cert_Region'])\n",
    "df_18 = df_18.drop(columns=['Cert_Region'])"
   ]
  },
  {
   "cell_type": "markdown",
   "metadata": {},
   "source": [
    "## Drop records with missing values"
   ]
  },
  {
   "cell_type": "code",
   "execution_count": 14,
   "metadata": {
    "scrolled": true
   },
   "outputs": [],
   "source": [
    "df_08 = df_08.dropna()"
   ]
  },
  {
   "cell_type": "code",
   "execution_count": 15,
   "metadata": {},
   "outputs": [
    {
     "data": {
      "text/plain": [
       "Model                   0\n",
       "Displ                   0\n",
       "Cyl                     0\n",
       "Trans                   0\n",
       "Drive                   0\n",
       "Fuel                    0\n",
       "Stnd                    0\n",
       "Underhood_ID            0\n",
       "Veh_Class               0\n",
       "Air_Pollution_Score     0\n",
       "City_MPG                0\n",
       "Hwy_MPG                 0\n",
       "Cmb_MPG                 0\n",
       "Greenhouse_Gas_Score    0\n",
       "dtype: int64"
      ]
     },
     "execution_count": 15,
     "metadata": {},
     "output_type": "execute_result"
    }
   ],
   "source": [
    "df_08.isnull().sum()"
   ]
  },
  {
   "cell_type": "code",
   "execution_count": 16,
   "metadata": {},
   "outputs": [],
   "source": [
    "df_18 = df_18.dropna()"
   ]
  },
  {
   "cell_type": "code",
   "execution_count": 17,
   "metadata": {},
   "outputs": [
    {
     "data": {
      "text/plain": [
       "Model                   0\n",
       "Displ                   0\n",
       "Cyl                     0\n",
       "Trans                   0\n",
       "Drive                   0\n",
       "Fuel                    0\n",
       "Stnd                    0\n",
       "Underhood_ID            0\n",
       "Veh_Class               0\n",
       "Air_Pollution_Score     0\n",
       "City_MPG                0\n",
       "Hwy_MPG                 0\n",
       "Cmb_MPG                 0\n",
       "Greenhouse_Gas_Score    0\n",
       "dtype: int64"
      ]
     },
     "execution_count": 17,
     "metadata": {},
     "output_type": "execute_result"
    }
   ],
   "source": [
    "df_18.isnull().sum()"
   ]
  },
  {
   "cell_type": "markdown",
   "metadata": {},
   "source": [
    "# CHECKPOINT: SAVE EVERYTHING TO .CSV"
   ]
  },
  {
   "cell_type": "code",
   "execution_count": 18,
   "metadata": {},
   "outputs": [],
   "source": [
    "df_08.to_csv('alpha_08_df.csv')\n",
    "df_18.to_csv('alpha_18_df.csv')"
   ]
  },
  {
   "cell_type": "code",
   "execution_count": 19,
   "metadata": {},
   "outputs": [],
   "source": [
    "df_08 = pd.read_csv('alpha_08_df.csv')\n",
    "df_18 = pd.read_csv('alpha_18_df.csv')"
   ]
  },
  {
   "cell_type": "code",
   "execution_count": null,
   "metadata": {},
   "outputs": [],
   "source": []
  },
  {
   "cell_type": "code",
   "execution_count": 20,
   "metadata": {},
   "outputs": [],
   "source": [
    "df_08 = df_08.astype({'Cyl':'int64'})\n",
    "df_18 = df_18.astype({'Air_Pollution_Score':'float64', 'Greenhouse_Gas_Score':'float64', 'Cyl':'int64'})"
   ]
  },
  {
   "cell_type": "code",
   "execution_count": 21,
   "metadata": {},
   "outputs": [],
   "source": [
    "df_08 = df_08.drop(columns=['Unnamed: 0'])\n",
    "df_18 = df_18.drop(columns=['Unnamed: 0'])"
   ]
  },
  {
   "cell_type": "markdown",
   "metadata": {},
   "source": [
    "# CHECKPOINT: SAVE EVERYTHING TO .CSV"
   ]
  },
  {
   "cell_type": "code",
   "execution_count": null,
   "metadata": {},
   "outputs": [],
   "source": []
  },
  {
   "cell_type": "markdown",
   "metadata": {},
   "source": [
    "## Change datatypes in 'air_pollution' column"
   ]
  },
  {
   "cell_type": "code",
   "execution_count": null,
   "metadata": {},
   "outputs": [],
   "source": []
  },
  {
   "cell_type": "markdown",
   "metadata": {},
   "source": [
    "## Find records with slashed '/' values and separate them into their own separate records"
   ]
  },
  {
   "cell_type": "code",
   "execution_count": 22,
   "metadata": {},
   "outputs": [],
   "source": [
    "hybrid_08 = df_08[df_08.Fuel.str.contains('/')]"
   ]
  },
  {
   "cell_type": "markdown",
   "metadata": {},
   "source": [
    "#### Select all rows with records of slashed values"
   ]
  },
  {
   "cell_type": "code",
   "execution_count": 23,
   "metadata": {},
   "outputs": [],
   "source": [
    "df1 = hybrid_08.copy()\n",
    "df2 = hybrid_08.copy()"
   ]
  },
  {
   "cell_type": "code",
   "execution_count": 24,
   "metadata": {},
   "outputs": [
    {
     "data": {
      "text/html": [
       "<div>\n",
       "<style scoped>\n",
       "    .dataframe tbody tr th:only-of-type {\n",
       "        vertical-align: middle;\n",
       "    }\n",
       "\n",
       "    .dataframe tbody tr th {\n",
       "        vertical-align: top;\n",
       "    }\n",
       "\n",
       "    .dataframe thead th {\n",
       "        text-align: right;\n",
       "    }\n",
       "</style>\n",
       "<table border=\"1\" class=\"dataframe\">\n",
       "  <thead>\n",
       "    <tr style=\"text-align: right;\">\n",
       "      <th></th>\n",
       "      <th>Model</th>\n",
       "      <th>Displ</th>\n",
       "      <th>Cyl</th>\n",
       "      <th>Trans</th>\n",
       "      <th>Drive</th>\n",
       "      <th>Fuel</th>\n",
       "      <th>Stnd</th>\n",
       "      <th>Underhood_ID</th>\n",
       "      <th>Veh_Class</th>\n",
       "      <th>Air_Pollution_Score</th>\n",
       "      <th>City_MPG</th>\n",
       "      <th>Hwy_MPG</th>\n",
       "      <th>Cmb_MPG</th>\n",
       "      <th>Greenhouse_Gas_Score</th>\n",
       "    </tr>\n",
       "  </thead>\n",
       "  <tbody>\n",
       "    <tr>\n",
       "      <th>595</th>\n",
       "      <td>MERCEDES-BENZ C300</td>\n",
       "      <td>3.0</td>\n",
       "      <td>6</td>\n",
       "      <td>Auto-L7</td>\n",
       "      <td>2WD</td>\n",
       "      <td>ethanol/gas</td>\n",
       "      <td>L2</td>\n",
       "      <td>8MBXV03.0U2A</td>\n",
       "      <td>small car</td>\n",
       "      <td>6/4</td>\n",
       "      <td>13/18</td>\n",
       "      <td>19/25</td>\n",
       "      <td>15/21</td>\n",
       "      <td>7/6</td>\n",
       "    </tr>\n",
       "  </tbody>\n",
       "</table>\n",
       "</div>"
      ],
      "text/plain": [
       "                  Model  Displ  Cyl    Trans Drive         Fuel Stnd  \\\n",
       "595  MERCEDES-BENZ C300    3.0    6  Auto-L7   2WD  ethanol/gas   L2   \n",
       "\n",
       "     Underhood_ID  Veh_Class Air_Pollution_Score City_MPG Hwy_MPG Cmb_MPG  \\\n",
       "595  8MBXV03.0U2A  small car                 6/4    13/18   19/25   15/21   \n",
       "\n",
       "    Greenhouse_Gas_Score  \n",
       "595                  7/6  "
      ]
     },
     "execution_count": 24,
     "metadata": {},
     "output_type": "execute_result"
    }
   ],
   "source": [
    "df1"
   ]
  },
  {
   "cell_type": "code",
   "execution_count": 25,
   "metadata": {},
   "outputs": [
    {
     "data": {
      "text/html": [
       "<div>\n",
       "<style scoped>\n",
       "    .dataframe tbody tr th:only-of-type {\n",
       "        vertical-align: middle;\n",
       "    }\n",
       "\n",
       "    .dataframe tbody tr th {\n",
       "        vertical-align: top;\n",
       "    }\n",
       "\n",
       "    .dataframe thead th {\n",
       "        text-align: right;\n",
       "    }\n",
       "</style>\n",
       "<table border=\"1\" class=\"dataframe\">\n",
       "  <thead>\n",
       "    <tr style=\"text-align: right;\">\n",
       "      <th></th>\n",
       "      <th>Model</th>\n",
       "      <th>Displ</th>\n",
       "      <th>Cyl</th>\n",
       "      <th>Trans</th>\n",
       "      <th>Drive</th>\n",
       "      <th>Fuel</th>\n",
       "      <th>Stnd</th>\n",
       "      <th>Underhood_ID</th>\n",
       "      <th>Veh_Class</th>\n",
       "      <th>Air_Pollution_Score</th>\n",
       "      <th>City_MPG</th>\n",
       "      <th>Hwy_MPG</th>\n",
       "      <th>Cmb_MPG</th>\n",
       "      <th>Greenhouse_Gas_Score</th>\n",
       "    </tr>\n",
       "  </thead>\n",
       "  <tbody>\n",
       "    <tr>\n",
       "      <th>595</th>\n",
       "      <td>MERCEDES-BENZ C300</td>\n",
       "      <td>3.0</td>\n",
       "      <td>6</td>\n",
       "      <td>Auto-L7</td>\n",
       "      <td>2WD</td>\n",
       "      <td>ethanol/gas</td>\n",
       "      <td>L2</td>\n",
       "      <td>8MBXV03.0U2A</td>\n",
       "      <td>small car</td>\n",
       "      <td>6/4</td>\n",
       "      <td>13/18</td>\n",
       "      <td>19/25</td>\n",
       "      <td>15/21</td>\n",
       "      <td>7/6</td>\n",
       "    </tr>\n",
       "  </tbody>\n",
       "</table>\n",
       "</div>"
      ],
      "text/plain": [
       "                  Model  Displ  Cyl    Trans Drive         Fuel Stnd  \\\n",
       "595  MERCEDES-BENZ C300    3.0    6  Auto-L7   2WD  ethanol/gas   L2   \n",
       "\n",
       "     Underhood_ID  Veh_Class Air_Pollution_Score City_MPG Hwy_MPG Cmb_MPG  \\\n",
       "595  8MBXV03.0U2A  small car                 6/4    13/18   19/25   15/21   \n",
       "\n",
       "    Greenhouse_Gas_Score  \n",
       "595                  7/6  "
      ]
     },
     "execution_count": 25,
     "metadata": {},
     "output_type": "execute_result"
    }
   ],
   "source": [
    "df2"
   ]
  },
  {
   "cell_type": "code",
   "execution_count": 26,
   "metadata": {},
   "outputs": [],
   "source": [
    "columns_to_split = ['Fuel', 'Air_Pollution_Score', 'City_MPG', 'Hwy_MPG', 'Cmb_MPG', 'Greenhouse_Gas_Score']"
   ]
  },
  {
   "cell_type": "code",
   "execution_count": 27,
   "metadata": {},
   "outputs": [],
   "source": [
    "for c in columns_to_split:\n",
    "    df1[c] = df1[c].apply(lambda x:x.split('/')[0])\n",
    "    df2[c] = df2[c].apply(lambda x:x.split('/')[1])"
   ]
  },
  {
   "cell_type": "code",
   "execution_count": 28,
   "metadata": {
    "scrolled": true
   },
   "outputs": [
    {
     "data": {
      "text/html": [
       "<div>\n",
       "<style scoped>\n",
       "    .dataframe tbody tr th:only-of-type {\n",
       "        vertical-align: middle;\n",
       "    }\n",
       "\n",
       "    .dataframe tbody tr th {\n",
       "        vertical-align: top;\n",
       "    }\n",
       "\n",
       "    .dataframe thead th {\n",
       "        text-align: right;\n",
       "    }\n",
       "</style>\n",
       "<table border=\"1\" class=\"dataframe\">\n",
       "  <thead>\n",
       "    <tr style=\"text-align: right;\">\n",
       "      <th></th>\n",
       "      <th>Model</th>\n",
       "      <th>Displ</th>\n",
       "      <th>Cyl</th>\n",
       "      <th>Trans</th>\n",
       "      <th>Drive</th>\n",
       "      <th>Fuel</th>\n",
       "      <th>Stnd</th>\n",
       "      <th>Underhood_ID</th>\n",
       "      <th>Veh_Class</th>\n",
       "      <th>Air_Pollution_Score</th>\n",
       "      <th>City_MPG</th>\n",
       "      <th>Hwy_MPG</th>\n",
       "      <th>Cmb_MPG</th>\n",
       "      <th>Greenhouse_Gas_Score</th>\n",
       "    </tr>\n",
       "  </thead>\n",
       "  <tbody>\n",
       "    <tr>\n",
       "      <th>595</th>\n",
       "      <td>MERCEDES-BENZ C300</td>\n",
       "      <td>3.0</td>\n",
       "      <td>6</td>\n",
       "      <td>Auto-L7</td>\n",
       "      <td>2WD</td>\n",
       "      <td>ethanol</td>\n",
       "      <td>L2</td>\n",
       "      <td>8MBXV03.0U2A</td>\n",
       "      <td>small car</td>\n",
       "      <td>6</td>\n",
       "      <td>13</td>\n",
       "      <td>19</td>\n",
       "      <td>15</td>\n",
       "      <td>7</td>\n",
       "    </tr>\n",
       "    <tr>\n",
       "      <th>595</th>\n",
       "      <td>MERCEDES-BENZ C300</td>\n",
       "      <td>3.0</td>\n",
       "      <td>6</td>\n",
       "      <td>Auto-L7</td>\n",
       "      <td>2WD</td>\n",
       "      <td>gas</td>\n",
       "      <td>L2</td>\n",
       "      <td>8MBXV03.0U2A</td>\n",
       "      <td>small car</td>\n",
       "      <td>4</td>\n",
       "      <td>18</td>\n",
       "      <td>25</td>\n",
       "      <td>21</td>\n",
       "      <td>6</td>\n",
       "    </tr>\n",
       "  </tbody>\n",
       "</table>\n",
       "</div>"
      ],
      "text/plain": [
       "                  Model  Displ  Cyl    Trans Drive     Fuel Stnd  \\\n",
       "595  MERCEDES-BENZ C300    3.0    6  Auto-L7   2WD  ethanol   L2   \n",
       "595  MERCEDES-BENZ C300    3.0    6  Auto-L7   2WD      gas   L2   \n",
       "\n",
       "     Underhood_ID  Veh_Class Air_Pollution_Score City_MPG Hwy_MPG Cmb_MPG  \\\n",
       "595  8MBXV03.0U2A  small car                   6       13      19      15   \n",
       "595  8MBXV03.0U2A  small car                   4       18      25      21   \n",
       "\n",
       "    Greenhouse_Gas_Score  \n",
       "595                    7  \n",
       "595                    6  "
      ]
     },
     "execution_count": 28,
     "metadata": {},
     "output_type": "execute_result"
    }
   ],
   "source": [
    "df1.append(df2)"
   ]
  },
  {
   "cell_type": "code",
   "execution_count": 29,
   "metadata": {},
   "outputs": [],
   "source": [
    "df_08.drop(hybrid_08.index, inplace=True)\n",
    "df_08 = df_08.append(df1.append(df2), ignore_index=True)"
   ]
  },
  {
   "cell_type": "code",
   "execution_count": 31,
   "metadata": {},
   "outputs": [
    {
     "data": {
      "text/html": [
       "<div>\n",
       "<style scoped>\n",
       "    .dataframe tbody tr th:only-of-type {\n",
       "        vertical-align: middle;\n",
       "    }\n",
       "\n",
       "    .dataframe tbody tr th {\n",
       "        vertical-align: top;\n",
       "    }\n",
       "\n",
       "    .dataframe thead th {\n",
       "        text-align: right;\n",
       "    }\n",
       "</style>\n",
       "<table border=\"1\" class=\"dataframe\">\n",
       "  <thead>\n",
       "    <tr style=\"text-align: right;\">\n",
       "      <th></th>\n",
       "      <th>Model</th>\n",
       "      <th>Displ</th>\n",
       "      <th>Cyl</th>\n",
       "      <th>Trans</th>\n",
       "      <th>Drive</th>\n",
       "      <th>Fuel</th>\n",
       "      <th>Stnd</th>\n",
       "      <th>Underhood_ID</th>\n",
       "      <th>Veh_Class</th>\n",
       "      <th>Air_Pollution_Score</th>\n",
       "      <th>City_MPG</th>\n",
       "      <th>Hwy_MPG</th>\n",
       "      <th>Cmb_MPG</th>\n",
       "      <th>Greenhouse_Gas_Score</th>\n",
       "    </tr>\n",
       "  </thead>\n",
       "  <tbody>\n",
       "  </tbody>\n",
       "</table>\n",
       "</div>"
      ],
      "text/plain": [
       "Empty DataFrame\n",
       "Columns: [Model, Displ, Cyl, Trans, Drive, Fuel, Stnd, Underhood_ID, Veh_Class, Air_Pollution_Score, City_MPG, Hwy_MPG, Cmb_MPG, Greenhouse_Gas_Score]\n",
       "Index: []"
      ]
     },
     "execution_count": 31,
     "metadata": {},
     "output_type": "execute_result"
    }
   ],
   "source": [
    "df_08[df_08.Air_Pollution_Score.str.contains('/')]"
   ]
  },
  {
   "cell_type": "code",
   "execution_count": null,
   "metadata": {},
   "outputs": [],
   "source": []
  },
  {
   "cell_type": "markdown",
   "metadata": {},
   "source": [
    "### Repeat for 2018"
   ]
  },
  {
   "cell_type": "code",
   "execution_count": 32,
   "metadata": {},
   "outputs": [],
   "source": [
    "hybrid_18 = df_18[df_18.Fuel.str.contains('/')]\n",
    "\n",
    "df1 = hybrid_18.copy()\n",
    "df2 = hybrid_18.copy()\n",
    "\n",
    "columns_to_split = ['Fuel', 'City_MPG', 'Hwy_MPG', 'Cmb_MPG']\n",
    "\n",
    "for c in columns_to_split:\n",
    "    df1[c] = df1[c].apply(lambda x:x.split('/')[0])\n",
    "    df2[c] = df2[c].apply(lambda x:x.split('/')[1])\n",
    "    \n",
    "df_18.drop(hybrid_18.index, inplace=True)\n",
    "df_18 = df_18.append(df1.append(df2), ignore_index=True)"
   ]
  },
  {
   "cell_type": "code",
   "execution_count": 33,
   "metadata": {},
   "outputs": [
    {
     "data": {
      "text/html": [
       "<div>\n",
       "<style scoped>\n",
       "    .dataframe tbody tr th:only-of-type {\n",
       "        vertical-align: middle;\n",
       "    }\n",
       "\n",
       "    .dataframe tbody tr th {\n",
       "        vertical-align: top;\n",
       "    }\n",
       "\n",
       "    .dataframe thead th {\n",
       "        text-align: right;\n",
       "    }\n",
       "</style>\n",
       "<table border=\"1\" class=\"dataframe\">\n",
       "  <thead>\n",
       "    <tr style=\"text-align: right;\">\n",
       "      <th></th>\n",
       "      <th>Model</th>\n",
       "      <th>Displ</th>\n",
       "      <th>Cyl</th>\n",
       "      <th>Trans</th>\n",
       "      <th>Drive</th>\n",
       "      <th>Fuel</th>\n",
       "      <th>Stnd</th>\n",
       "      <th>Underhood_ID</th>\n",
       "      <th>Veh_Class</th>\n",
       "      <th>Air_Pollution_Score</th>\n",
       "      <th>City_MPG</th>\n",
       "      <th>Hwy_MPG</th>\n",
       "      <th>Cmb_MPG</th>\n",
       "      <th>Greenhouse_Gas_Score</th>\n",
       "    </tr>\n",
       "  </thead>\n",
       "  <tbody>\n",
       "  </tbody>\n",
       "</table>\n",
       "</div>"
      ],
      "text/plain": [
       "Empty DataFrame\n",
       "Columns: [Model, Displ, Cyl, Trans, Drive, Fuel, Stnd, Underhood_ID, Veh_Class, Air_Pollution_Score, City_MPG, Hwy_MPG, Cmb_MPG, Greenhouse_Gas_Score]\n",
       "Index: []"
      ]
     },
     "execution_count": 33,
     "metadata": {},
     "output_type": "execute_result"
    }
   ],
   "source": [
    "df_18[df_18.City_MPG.str.contains('/')]"
   ]
  },
  {
   "cell_type": "code",
   "execution_count": 34,
   "metadata": {},
   "outputs": [
    {
     "data": {
      "text/plain": [
       "Gasoline    1007\n",
       "ethanol        1\n",
       "CNG            1\n",
       "gas            1\n",
       "Name: Fuel, dtype: int64"
      ]
     },
     "execution_count": 34,
     "metadata": {},
     "output_type": "execute_result"
    }
   ],
   "source": [
    "df_08.Fuel.value_counts()"
   ]
  },
  {
   "cell_type": "code",
   "execution_count": 35,
   "metadata": {},
   "outputs": [
    {
     "data": {
      "text/plain": [
       "Gasoline       752\n",
       "Ethanol         26\n",
       "Gas             26\n",
       "Diesel          19\n",
       "Electricity     12\n",
       "Name: Fuel, dtype: int64"
      ]
     },
     "execution_count": 35,
     "metadata": {},
     "output_type": "execute_result"
    }
   ],
   "source": [
    "df_18.Fuel.value_counts()"
   ]
  },
  {
   "cell_type": "markdown",
   "metadata": {},
   "source": [
    "## Gas/Gasoline?"
   ]
  },
  {
   "cell_type": "code",
   "execution_count": 36,
   "metadata": {},
   "outputs": [],
   "source": [
    "df_18['Fuel'] = df_18['Fuel'].apply(lambda x: x.replace('Gas', 'Gasoline'))\n",
    "df_08['Fuel'] = df_08['Fuel'].apply(lambda x: x.replace('gas', 'Gasoline'))"
   ]
  },
  {
   "cell_type": "code",
   "execution_count": 37,
   "metadata": {},
   "outputs": [],
   "source": [
    "df_18['Fuel'] = df_18['Fuel'].apply(lambda x: x.replace('Gasolineoline', 'Gasoline'))"
   ]
  },
  {
   "cell_type": "markdown",
   "metadata": {},
   "source": [
    "## Fix `*_mpg, greenhouse_gas_score and air_pollution_score` datatypes"
   ]
  },
  {
   "cell_type": "code",
   "execution_count": null,
   "metadata": {},
   "outputs": [],
   "source": []
  },
  {
   "cell_type": "code",
   "execution_count": 51,
   "metadata": {},
   "outputs": [],
   "source": [
    "df_08 = df_08.astype({'Air_Pollution_Score':'float64', 'Greenhouse_Gas_Score':'float64', 'City_MPG':'float64', 'Hwy_MPG':'float64', 'Cmb_MPG':'float'})\n",
    "df_18 = df_18.astype({'City_MPG':'float64', 'Hwy_MPG':'float64', 'Cmb_MPG':'float'})"
   ]
  },
  {
   "cell_type": "markdown",
   "metadata": {},
   "source": [
    "# CHECKPOINT: SAVE EVERYTHING"
   ]
  },
  {
   "cell_type": "code",
   "execution_count": 52,
   "metadata": {},
   "outputs": [],
   "source": [
    "df_08.to_csv('alpha_08_df.csv')\n",
    "df_18.to_csv('alpha_18_df.csv')"
   ]
  },
  {
   "cell_type": "markdown",
   "metadata": {},
   "source": [
    "# Create visuals of findings"
   ]
  },
  {
   "cell_type": "markdown",
   "metadata": {},
   "source": [
    "## Fix `greenhouse_gas_score, air_pollution_score` datatypes"
   ]
  },
  {
   "cell_type": "code",
   "execution_count": 53,
   "metadata": {},
   "outputs": [
    {
     "data": {
      "text/plain": [
       "Gasoline    1008\n",
       "ethanol        1\n",
       "CNG            1\n",
       "Name: Fuel, dtype: int64"
      ]
     },
     "execution_count": 53,
     "metadata": {},
     "output_type": "execute_result"
    }
   ],
   "source": [
    "df_08.Fuel.value_counts()"
   ]
  },
  {
   "cell_type": "code",
   "execution_count": 54,
   "metadata": {},
   "outputs": [
    {
     "data": {
      "text/plain": [
       "Gasoline       778\n",
       "Ethanol         26\n",
       "Diesel          19\n",
       "Electricity     12\n",
       "Name: Fuel, dtype: int64"
      ]
     },
     "execution_count": 54,
     "metadata": {},
     "output_type": "execute_result"
    }
   ],
   "source": [
    "df_18.Fuel.value_counts()"
   ]
  },
  {
   "cell_type": "markdown",
   "metadata": {},
   "source": [
    "## How many more car models use alternative fuels in 2018 as opposed to 2008?\n",
    "* ### May need to Google the answer to find out which fuel types are considered 'alternative'"
   ]
  },
  {
   "cell_type": "code",
   "execution_count": 43,
   "metadata": {},
   "outputs": [
    {
     "name": "stdout",
     "output_type": "stream",
     "text": [
      "36\n"
     ]
    }
   ],
   "source": [
    "altfuel_08_count = df_08.query('Fuel != \"Gasoline\"').count()[0]\n",
    "altfuel_18_count = df_18.query('Fuel != \"Gasoline\" and Fuel != \"Diesel\"').count()[0]\n",
    "additional_altfuel_cars = altfuel_18_count - altfuel_08_count\n",
    "print(additional_altfuel_cars)"
   ]
  },
  {
   "cell_type": "code",
   "execution_count": null,
   "metadata": {},
   "outputs": [],
   "source": []
  },
  {
   "cell_type": "markdown",
   "metadata": {},
   "source": [
    "## How much has the average fuel economy improved since 2008?"
   ]
  },
  {
   "cell_type": "code",
   "execution_count": 44,
   "metadata": {},
   "outputs": [
    {
     "name": "stdout",
     "output_type": "stream",
     "text": [
      "4.28\n"
     ]
    }
   ],
   "source": [
    "avg_fuel_economy_increase = df_18['Cmb_MPG'].mean() - df_08['Cmb_MPG'].mean()\n",
    "print(round(avg_fuel_economy_increase, 2))"
   ]
  },
  {
   "cell_type": "markdown",
   "metadata": {},
   "source": [
    "## Which type of vehicle's fuel economy has improved the most since 2008?"
   ]
  },
  {
   "cell_type": "code",
   "execution_count": 45,
   "metadata": {},
   "outputs": [
    {
     "name": "stdout",
     "output_type": "stream",
     "text": [
      "6.26\n"
     ]
    }
   ],
   "source": [
    "midcar = df_18.groupby('Veh_Class').Cmb_MPG.mean().round(2)[1] - df_08.groupby('Veh_Class').Cmb_MPG.mean().round(2)[2]\n",
    "print(midcar.round(2))"
   ]
  },
  {
   "cell_type": "code",
   "execution_count": null,
   "metadata": {},
   "outputs": [],
   "source": []
  },
  {
   "cell_type": "markdown",
   "metadata": {},
   "source": [
    "#### (2008) Average fuel economy by vehicle type"
   ]
  },
  {
   "cell_type": "code",
   "execution_count": 47,
   "metadata": {},
   "outputs": [
    {
     "data": {
      "text/plain": [
       "Veh_Class\n",
       "SUV              18.47\n",
       "large car        18.51\n",
       "midsize car      21.57\n",
       "minivan          19.12\n",
       "pickup           16.39\n",
       "small car        21.06\n",
       "station wagon    22.37\n",
       "van              14.83\n",
       "Name: Cmb_MPG, dtype: float64"
      ]
     },
     "execution_count": 47,
     "metadata": {},
     "output_type": "execute_result"
    }
   ],
   "source": [
    "df_08.groupby('Veh_Class').Cmb_MPG.mean().round(2)"
   ]
  },
  {
   "cell_type": "markdown",
   "metadata": {},
   "source": [
    "#### (2018) Average fuel economy by vehicle type"
   ]
  },
  {
   "cell_type": "code",
   "execution_count": 48,
   "metadata": {},
   "outputs": [
    {
     "data": {
      "text/plain": [
       "Veh_Class\n",
       "large car          23.41\n",
       "midsize car        27.83\n",
       "minivan            20.80\n",
       "pickup             18.59\n",
       "small SUV          24.07\n",
       "small car          25.42\n",
       "special purpose    18.50\n",
       "standard SUV       18.16\n",
       "station wagon      27.63\n",
       "Name: Cmb_MPG, dtype: float64"
      ]
     },
     "execution_count": 48,
     "metadata": {},
     "output_type": "execute_result"
    }
   ],
   "source": [
    "df_18.groupby('Veh_Class').Cmb_MPG.mean().round(2)"
   ]
  },
  {
   "cell_type": "markdown",
   "metadata": {},
   "source": [
    "## Which model has the highest `air_pollution_score` and fuel economy in 2008 and 2018? Compare them. "
   ]
  },
  {
   "cell_type": "code",
   "execution_count": 55,
   "metadata": {},
   "outputs": [],
   "source": [
    "bestAPS_18 = df_18.iloc[df_18['Air_Pollution_Score'].idxmax()]\n",
    "bestAPS_08 = df_08.iloc[df_08['Air_Pollution_Score'].idxmax()]\n",
    "bestFE_18 = df_18.iloc[df_18['Cmb_MPG'].idxmax()]\n",
    "bestFE_08 = df_08.iloc[df_08['Cmb_MPG'].idxmax()]"
   ]
  },
  {
   "cell_type": "code",
   "execution_count": 56,
   "metadata": {},
   "outputs": [
    {
     "name": "stdout",
     "output_type": "stream",
     "text": [
      "Model                   CHEVROLET Volt\n",
      "Displ                              1.5\n",
      "Cyl                                  4\n",
      "Trans                              CVT\n",
      "Drive                              2WD\n",
      "Fuel                       Electricity\n",
      "Stnd                         L3ULEV125\n",
      "Underhood_ID              JGMXV01.5020\n",
      "Veh_Class                    small car\n",
      "Air_Pollution_Score                  3\n",
      "City_MPG                           113\n",
      "Hwy_MPG                             99\n",
      "Cmb_MPG                            106\n",
      "Greenhouse_Gas_Score                10\n",
      "Name: 809, dtype: object\n"
     ]
    }
   ],
   "source": [
    "print(bestFE_18)"
   ]
  },
  {
   "cell_type": "markdown",
   "metadata": {},
   "source": [
    "Conclusion: 2008 best air pollution score is better than 2018 best air pollution score (BMW 328i (9.5) > Audi A3 (7.0))\n",
    "\n",
    "(Weird DataSet. Discussed in Class)"
   ]
  },
  {
   "cell_type": "code",
   "execution_count": null,
   "metadata": {},
   "outputs": [],
   "source": []
  }
 ],
 "metadata": {
  "kernelspec": {
   "display_name": "Python 3",
   "language": "python",
   "name": "python3"
  },
  "language_info": {
   "codemirror_mode": {
    "name": "ipython",
    "version": 3
   },
   "file_extension": ".py",
   "mimetype": "text/x-python",
   "name": "python",
   "nbconvert_exporter": "python",
   "pygments_lexer": "ipython3",
   "version": "3.7.6"
  }
 },
 "nbformat": 4,
 "nbformat_minor": 2
}
